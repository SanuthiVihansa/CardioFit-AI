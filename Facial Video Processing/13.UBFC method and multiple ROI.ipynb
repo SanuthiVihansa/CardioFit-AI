{
 "cells": [
  {
   "metadata": {},
   "cell_type": "markdown",
   "source": "# Imports",
   "id": "ce4f61e8e0286f46"
  },
  {
   "cell_type": "code",
   "id": "initial_id",
   "metadata": {
    "collapsed": true,
    "ExecuteTime": {
     "end_time": "2024-07-27T16:50:36.883894Z",
     "start_time": "2024-07-27T16:50:33.357828Z"
    }
   },
   "source": [
    "import cv2\n",
    "import numpy as np\n",
    "import matplotlib.pyplot as plt\n",
    "from scipy.stats import entropy\n",
    "from scipy.fft import fft, fftfreq\n",
    "from sklearn.decomposition import FastICA\n",
    "from scipy.signal import butter, lfilter, correlate, detrend"
   ],
   "outputs": [],
   "execution_count": 2
  },
  {
   "metadata": {},
   "cell_type": "markdown",
   "source": "### Methods",
   "id": "83b9580db1544b1a"
  },
  {
   "metadata": {
    "ExecuteTime": {
     "end_time": "2024-07-27T16:50:31.555258Z",
     "start_time": "2024-07-27T16:50:31.522260Z"
    }
   },
   "cell_type": "code",
   "source": [
    "# Function to apply bandpass filter\n",
    "def bandpass_filter(data, lowcut, highcut, fs, order=5):\n",
    "    nyquist = 0.5 * fs\n",
    "    low = lowcut / nyquist\n",
    "    high = highcut / nyquist\n",
    "    b, a = butter(order, [low, high], btype='band')\n",
    "    y = lfilter(b, a, data)\n",
    "    return y\n",
    "\n",
    "# Function to extract RGB means from ROI\n",
    "def extract_rgb_means(frame, roi):\n",
    "    r = np.mean(frame[roi[1]:roi[3], roi[0]:roi[2], 0])\n",
    "    g = np.mean(frame[roi[1]:roi[3], roi[0]:roi[2], 1])\n",
    "    b = np.mean(frame[roi[1]:roi[3], roi[0]:roi[2], 2])\n",
    "    # print('r', r)\n",
    "    # print('g', g)\n",
    "    # print('b', b)\n",
    "    return r, g, b\n",
    "\n",
    "# Function to calculate negentropy\n",
    "def calculate_negentropy(signal):\n",
    "    # Ensure no NaN or Inf values in signal\n",
    "    signal = np.nan_to_num(signal)\n",
    "    if np.isnan(signal).any() or np.isinf(signal).any():\n",
    "        print(\"Signal contains NaNs or Infs, returning NaN for negentropy.\")\n",
    "        return np.nan\n",
    "\n",
    "    # Normalize the signal\n",
    "    signal_norm = (signal - np.mean(signal)) / np.std(signal)\n",
    "    gaussian = np.random.normal(0, 1, len(signal))\n",
    "    return entropy(gaussian) - entropy(signal_norm)\n",
    "\n",
    "# Function to calculate autocorrelation\n",
    "def calculate_autocorrelation(signal):\n",
    "    result = correlate(signal, signal, mode='full')\n",
    "    max_corr = np.max(result[result.size // 2:])\n",
    "    return max_corr / len(signal)\n",
    "\n",
    "# MAICA method for multi-objective optimization\n",
    "def maica(ica_signals, fs):\n",
    "    best_signal = None\n",
    "    best_score = -np.inf\n",
    "\n",
    "    for i in range(ica_signals.shape[1]):\n",
    "        signal = ica_signals[:, i]\n",
    "        filtered_signal = bandpass_filter(signal, 0.7, 4.0, fs)\n",
    "        \n",
    "        # Calculate metrics\n",
    "        autocorr = calculate_autocorrelation(filtered_signal)\n",
    "        negentropy = calculate_negentropy(filtered_signal)\n",
    "        \n",
    "        if np.isnan(negentropy):\n",
    "            print(f\"Skipping component {i} due to NaN in negentropy calculation.\")\n",
    "            continue\n",
    "\n",
    "        # Combine metrics (this is a simple weighted sum, adjust weights as needed)\n",
    "        score = autocorr + negentropy\n",
    "        \n",
    "        if score > best_score:\n",
    "            best_score = score\n",
    "            best_signal = filtered_signal\n",
    "\n",
    "    return best_signal\n",
    "\n",
    "def checkForInfsOrNaNs(rgb_signals):\n",
    "    # Check for NaNs or Infs in the data\n",
    "    if np.any(np.isnan(rgb_signals)) or np.any(np.isinf(rgb_signals)):\n",
    "        print(\"Data contains NaNs or Infs, handling them...\")\n",
    "        # # Option 1: Remove rows with NaN or Inf values\n",
    "        # rgb_signals = rgb_signals[~np.isnan(rgb_signals).any(axis=1)]\n",
    "        # rgb_signals = rgb_signals[~np.isinf(rgb_signals).any(axis=1)]\n",
    "    \n",
    "        # # Option 2: Replace NaNs with zeros (or another appropriate value)\n",
    "        # rgb_signals = np.nan_to_num(rgb_signals)\n",
    "    \n",
    "        # Option 3: Interpolate or fill NaNs/Infs if possible\n",
    "        # Example: fill NaNs with the mean of the column\n",
    "        rgb_signals = np.where(np.isnan(rgb_signals), np.nanmean(rgb_signals, axis=0), rgb_signals)\n",
    "    \n",
    "    # Ensure rgb_signals has no NaNs or Infs now\n",
    "    assert not np.any(np.isnan(rgb_signals)), \"NaNs still present in the data\"\n",
    "    assert not np.any(np.isinf(rgb_signals)), \"Infs still present in the data\"\n",
    "    \n",
    "    return rgb_signals"
   ],
   "id": "674927823d6450a5",
   "outputs": [],
   "execution_count": 1
  },
  {
   "metadata": {},
   "cell_type": "markdown",
   "source": "## Video",
   "id": "6a0f0a71565d0860"
  },
  {
   "metadata": {
    "ExecuteTime": {
     "end_time": "2024-07-27T16:50:39.405232Z",
     "start_time": "2024-07-27T16:50:39.396215Z"
    }
   },
   "cell_type": "code",
   "source": "vidPath = r\"C:\\Users\\USER\\Documents\\SLIIT\\Datasets\\UBFC_DATASET\\DATASET_1\\5-gt\\vid.avi\"",
   "id": "9e59544ca9e246fb",
   "outputs": [],
   "execution_count": 3
  },
  {
   "metadata": {
    "ExecuteTime": {
     "end_time": "2024-07-27T16:50:57.583057Z",
     "start_time": "2024-07-27T16:50:41.459664Z"
    }
   },
   "cell_type": "code",
   "source": [
    "# Capture video\n",
    "cap = cv2.VideoCapture(vidPath)\n",
    "fs = cap.get(cv2.CAP_PROP_FPS)  # Frame rate\n",
    "roi = (170, 320, 370, 480)  # Example ROI, adjust as needed\n",
    "rgb_signals = []\n",
    "\n",
    "while True:\n",
    "    ret, frame = cap.read()\n",
    "    # plt.imshow(frame[170:370, 320:480])\n",
    "    # cv2.waitKey(1)\n",
    "    \n",
    "    # print(frame.shape)\n",
    "    # break\n",
    "    \n",
    "    if not ret:\n",
    "        break\n",
    "\n",
    "    r, g, b = extract_rgb_means(frame, roi)\n",
    "    rgb_signals.append([r, g, b])\n",
    "    \n",
    "    cv2.rectangle(frame, (170, 320), (370,480), (255, 0, 0), 2)\n",
    "    cv2.imshow('Video', frame)\n",
    "    if cv2.waitKey(1) & 0xFF == ord('q'):\n",
    "        break\n",
    "\n",
    "cap.release()\n",
    "cv2.destroyAllWindows()"
   ],
   "id": "837bf6308de12a44",
   "outputs": [],
   "execution_count": 4
  },
  {
   "metadata": {},
   "cell_type": "markdown",
   "source": "### RPPG Signal extraction",
   "id": "8dd90b0af7a36f20"
  },
  {
   "metadata": {
    "ExecuteTime": {
     "end_time": "2024-07-27T16:50:57.859726Z",
     "start_time": "2024-07-27T16:50:57.589268Z"
    }
   },
   "cell_type": "code",
   "source": [
    "rgb_signals = np.array(rgb_signals)\n",
    "\n",
    "# Detrend and normalize\n",
    "# rgb_signals = checkForInfsOrNaNs(rgb_signals)\n",
    "rgb_signals = detrend(rgb_signals, axis=0)\n",
    "rgb_signals = (rgb_signals - np.mean(rgb_signals, axis=0)) / np.std(rgb_signals, axis=0)\n",
    "\n",
    "# Apply ICA\n",
    "ica = FastICA(n_components=3)\n",
    "ica_signals = ica.fit_transform(rgb_signals)"
   ],
   "id": "40fd773392a2e8b9",
   "outputs": [],
   "execution_count": 5
  },
  {
   "metadata": {
    "ExecuteTime": {
     "end_time": "2024-07-27T16:51:00.921796Z",
     "start_time": "2024-07-27T16:51:00.875597Z"
    }
   },
   "cell_type": "code",
   "source": [
    "# Apply MAICA\n",
    "rppg_signal = maica(ica_signals, fs)"
   ],
   "id": "1535243f150313ae",
   "outputs": [
    {
     "name": "stdout",
     "output_type": "stream",
     "text": [
      "Skipping component 0 due to NaN in negentropy calculation.\n",
      "Skipping component 1 due to NaN in negentropy calculation.\n",
      "Skipping component 2 due to NaN in negentropy calculation.\n"
     ]
    },
    {
     "name": "stderr",
     "output_type": "stream",
     "text": [
      "C:\\Users\\USER\\AppData\\Local\\Temp\\ipykernel_19156\\1024867438.py:31: RuntimeWarning: invalid value encountered in scalar subtract\n",
      "  return entropy(gaussian) - entropy(signal_norm)\n"
     ]
    }
   ],
   "execution_count": 6
  },
  {
   "metadata": {
    "ExecuteTime": {
     "end_time": "2024-07-27T09:36:39.515538Z",
     "start_time": "2024-07-27T09:36:38.895788Z"
    }
   },
   "cell_type": "code",
   "source": [
    "# Estimate heart rate using FFT\n",
    "n = len(rppg_signal)\n",
    "t = np.arange(n) / fs\n",
    "yf = fft(rppg_signal)\n",
    "xf = fftfreq(n, 1 / fs)[:n // 2]\n",
    "\n",
    "# Find the peak frequency and convert to bpm\n",
    "peak_freq = xf[np.argmax(np.abs(yf[:n // 2]))]\n",
    "heart_rate = peak_freq * 60  # Convert to bpm\n",
    "print(f\"Estimated Heart Rate: {heart_rate:.2f} bpm\")\n",
    "\n",
    "# Plot the rPPG signal and FFT\n",
    "plt.figure(figsize=(12, 6))\n",
    "plt.subplot(2, 1, 1)\n",
    "plt.plot(t, rppg_signal)\n",
    "plt.title('rPPG Signal')\n",
    "plt.subplot(2, 1, 2)\n",
    "plt.plot(xf, 2.0 / n * np.abs(yf[:n // 2]))\n",
    "plt.title('FFT of rPPG Signal')\n",
    "plt.xlabel('Frequency (Hz)')\n",
    "plt.ylabel('Amplitude')\n",
    "plt.show()"
   ],
   "id": "20db344c2e4d1835",
   "outputs": [
    {
     "name": "stderr",
     "output_type": "stream",
     "text": [
      "C:\\Users\\USER\\AppData\\Local\\Temp\\ipykernel_6128\\4163671609.py:24: RuntimeWarning: invalid value encountered in scalar subtract\n",
      "  return entropy(gaussian) - entropy(signal_norm)\n"
     ]
    },
    {
     "ename": "TypeError",
     "evalue": "object of type 'NoneType' has no len()",
     "output_type": "error",
     "traceback": [
      "\u001B[1;31m---------------------------------------------------------------------------\u001B[0m",
      "\u001B[1;31mTypeError\u001B[0m                                 Traceback (most recent call last)",
      "Cell \u001B[1;32mIn[6], line 16\u001B[0m\n\u001B[0;32m     13\u001B[0m rppg_signal \u001B[38;5;241m=\u001B[39m maica(ica_signals, fs)\n\u001B[0;32m     15\u001B[0m \u001B[38;5;66;03m# Estimate heart rate using FFT\u001B[39;00m\n\u001B[1;32m---> 16\u001B[0m n \u001B[38;5;241m=\u001B[39m \u001B[38;5;28;43mlen\u001B[39;49m\u001B[43m(\u001B[49m\u001B[43mrppg_signal\u001B[49m\u001B[43m)\u001B[49m\n\u001B[0;32m     17\u001B[0m t \u001B[38;5;241m=\u001B[39m np\u001B[38;5;241m.\u001B[39marange(n) \u001B[38;5;241m/\u001B[39m fs\n\u001B[0;32m     18\u001B[0m yf \u001B[38;5;241m=\u001B[39m fft(rppg_signal)\n",
      "\u001B[1;31mTypeError\u001B[0m: object of type 'NoneType' has no len()"
     ]
    }
   ],
   "execution_count": 6
  },
  {
   "metadata": {
    "ExecuteTime": {
     "end_time": "2024-07-27T09:37:28.841932Z",
     "start_time": "2024-07-27T09:37:28.822936Z"
    }
   },
   "cell_type": "code",
   "source": "",
   "id": "77c965f09bdb4b58",
   "outputs": [
    {
     "name": "stdout",
     "output_type": "stream",
     "text": [
      "None\n"
     ]
    }
   ],
   "execution_count": 9
  }
 ],
 "metadata": {
  "kernelspec": {
   "display_name": "Python 3",
   "language": "python",
   "name": "python3"
  },
  "language_info": {
   "codemirror_mode": {
    "name": "ipython",
    "version": 2
   },
   "file_extension": ".py",
   "mimetype": "text/x-python",
   "name": "python",
   "nbconvert_exporter": "python",
   "pygments_lexer": "ipython2",
   "version": "2.7.6"
  }
 },
 "nbformat": 4,
 "nbformat_minor": 5
}

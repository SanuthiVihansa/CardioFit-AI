{
 "cells": [
  {
   "metadata": {
    "ExecuteTime": {
     "end_time": "2024-07-25T12:42:42.797654Z",
     "start_time": "2024-07-25T12:42:40.743737Z"
    }
   },
   "cell_type": "code",
   "source": [
    "import cv2\n",
    "# import time\n",
    "import mediapipe as mp\n",
    "import numpy as np\n",
    "import matplotlib.pyplot as plt\n",
    "from scipy.signal import find_peaks, savgol_filter"
   ],
   "id": "initial_id",
   "outputs": [],
   "execution_count": 1
  },
  {
   "metadata": {
    "ExecuteTime": {
     "end_time": "2024-07-25T12:42:47.773559Z",
     "start_time": "2024-07-25T12:42:47.655732Z"
    }
   },
   "cell_type": "code",
   "source": [
    "# Initialize MediaPipe Face Mesh\n",
    "mpDraw = mp.solutions.drawing_utils #helps draw on faces\n",
    "mp_face_mesh = mp.solutions.face_mesh #face mesh model\n",
    "face_mesh = mp_face_mesh.FaceMesh(static_image_mode=False, max_num_faces=1, min_detection_confidence=0.5) #object of face mesh model\n",
    "\n",
    "# Drawing specifications to draw the face mesh\n",
    "drawSpec = mpDraw.DrawingSpec(thickness=1, circle_radius=1, color=(0, 255, 0))\n",
    "\n",
    "# Open the video file\n",
    "video_path = r\"C:\\Users\\USER\\Documents\\SLIIT\\Datasets\\CardioFit AI Dataset\\Videos\\VID_20240428_134059.mp4\"\n",
    "cap = cv2.VideoCapture(video_path) # Open the video file\n",
    "# cap = cv2.VideoCapture(0) # Open the webcam\n",
    "\n",
    "fps = cap.get(cv2.CAP_PROP_FPS)\n",
    "time_axis = []\n",
    "\n",
    "# Initialize lists to store ROI signals.\n",
    "cheek_signals = []\n",
    "nose_signals = []\n",
    "forehead_signals = []"
   ],
   "id": "4bd8a313f2f6e158",
   "outputs": [],
   "execution_count": 2
  },
  {
   "metadata": {
    "ExecuteTime": {
     "end_time": "2024-07-25T12:42:50.350418Z",
     "start_time": "2024-07-25T12:42:50.337330Z"
    }
   },
   "cell_type": "code",
   "source": [
    "def displayimg(img):\n",
    "    cv2.imshow('image', img)\n",
    "    cv2.waitKey(0)\n",
    "    cv2.destroyAllWindows()\n",
    "    \n",
    "# Get RGB values for the ROIs.\n",
    "def extract_rgb(roi, frame):\n",
    "    roi_mask = np.zeros(frame.shape[:2], dtype=np.uint8)\n",
    "    cv2.fillPoly(roi_mask, [np.array(roi)], 255)\n",
    "    mean_color = cv2.mean(frame, mask=roi_mask)[:3]\n",
    "    return mean_color"
   ],
   "id": "2842e83c592e3dcd",
   "outputs": [],
   "execution_count": 3
  },
  {
   "metadata": {},
   "cell_type": "markdown",
   "source": "### Create an image with numbered landmarks",
   "id": "76e5273e013196d0"
  },
  {
   "metadata": {
    "ExecuteTime": {
     "end_time": "2024-07-25T11:09:43.529353Z",
     "start_time": "2024-07-25T11:09:43.483337Z"
    }
   },
   "cell_type": "code",
   "source": [
    "img = cv2.imread(r\"C:\\Users\\USER\\Documents\\SLIIT\\Datasets\\CardioFit AI Dataset\\SampleFace2.png\", 1)\n",
    "\n",
    "# Convert the image to RGB\n",
    "rgb_frame = cv2.cvtColor(img, cv2.COLOR_BGR2RGB)\n",
    "\n",
    "results = face_mesh.process(rgb_frame)\n",
    "\n",
    "face = []\n",
    "\n",
    "if results.multi_face_landmarks:\n",
    "        # for face_landmarks in results.multi_face_landmarks:\n",
    "        #     for landmark in face_landmarks.landmark:\n",
    "        #         x = int(landmark.x * img.shape[1])\n",
    "        #         y = int(landmark.y * img.shape[0])\n",
    "        #         cv2.circle(img, (x, y), 1, (0, 255, 0), -1)\n",
    "        # mpDraw.draw_landmarks(img, results.multi_face_landmarks[0], mp_face_mesh.FACEMESH_CONTOURS,\n",
    "        #                                    drawSpec, drawSpec)\n",
    "                \n",
    "        # identifying the landmarks\n",
    "        for id, lm in enumerate(results.multi_face_landmarks[\n",
    "                                    0].landmark):  #enumerate() returns key values pairs of the landmark id and the landmark itself\n",
    "            height, width, channels = img.shape\n",
    "            x, y = int(lm.x * width), int(lm.y * height)  #this is done to undo the normalizing and obtain the pixel values\n",
    "    \n",
    "            # prints the id of the landmark in the exact pixel location\n",
    "            cv2.putText(img, str(id), (x, y), cv2.FONT_HERSHEY_SIMPLEX, 0.3, (0, 255, 0), 1)\n",
    "            # print(id, x, y)\n",
    "            face.append([x, y])\n",
    "            \n",
    "        # resizedImg = cv2.resize(img, None, fx=2, fy=2, interpolation=cv2.INTER_AREA)\n",
    "        # \n",
    "        # displayimg(resizedImg)"
   ],
   "id": "98fd4df6589a1f84",
   "outputs": [
    {
     "name": "stderr",
     "output_type": "stream",
     "text": [
      "C:\\Users\\USER\\miniconda3\\envs\\mediapipe-research\\lib\\site-packages\\google\\protobuf\\symbol_database.py:55: UserWarning: SymbolDatabase.GetPrototype() is deprecated. Please use message_factory.GetMessageClass() instead. SymbolDatabase.GetPrototype() will be removed soon.\n",
      "  warnings.warn('SymbolDatabase.GetPrototype() is deprecated. Please '\n"
     ]
    }
   ],
   "execution_count": 6
  },
  {
   "metadata": {
    "ExecuteTime": {
     "end_time": "2024-07-25T11:10:20.493565Z",
     "start_time": "2024-07-25T11:10:14.945658Z"
    }
   },
   "cell_type": "code",
   "source": [
    "displayimg(img)\n",
    "# cv2.imwrite('numbered_landmarks.png', img)"
   ],
   "id": "d8cf379c5c645033",
   "outputs": [],
   "execution_count": 7
  },
  {
   "metadata": {
    "ExecuteTime": {
     "end_time": "2024-07-25T12:42:59.799263Z",
     "start_time": "2024-07-25T12:42:59.361657Z"
    }
   },
   "cell_type": "code",
   "source": [
    "while cap.isOpened():\n",
    "    ret, frame = cap.read()\n",
    "    if not ret:\n",
    "        break\n",
    "        \n",
    "    if cv2.waitKey(1) & 0xFF == ord('q'):\n",
    "        break\n",
    "        \n",
    "    # if reading video\n",
    "    if cap.get(cv2.CAP_PROP_POS_MSEC) > 10000:\n",
    "        break\n",
    "        \n",
    "    # if reading webcam\n",
    "    # if time.time() - startTime > 10:\n",
    "    #     break\n",
    "    \n",
    "    # Convert the frame to RGB\n",
    "    rgb_frame = cv2.cvtColor(frame, cv2.COLOR_BGR2RGB)\n",
    "    \n",
    "    # Process the frame to detect face landmarks\n",
    "    results = face_mesh.process(rgb_frame)\n",
    "\n",
    "    if results.multi_face_landmarks:\n",
    "        for face_landmarks in results.multi_face_landmarks:\n",
    "            # extract coordinates for specific landmarks\n",
    "            height, width, channels = frame.shape\n",
    "            landmarks = [(int(point.x * width), int(point.y * height)) for point in face_landmarks.landmark]\n",
    "\n",
    "            # Define ROIs based on landmark indices (example indices for cheeks and nose).\n",
    "            left_cheek_indices = [143, 111, 117, 118, 119, 120, 121, 128, 114, 217, 126, 142, 203, 205, 187, 123, 116]\n",
    "            right_cheek_indices = [357, 350, 349, 348, 347, 346, 340, 372, 345, 352, 411, 427, 426, 423, 279, 429, 437, 343, 357]\n",
    "            nose_indices = [8, 193, 244, 128, 114, 217, 209, 49, 64, 98, 218, 237, 238, 19, 274, 438, 455, 278, 279, 429, 437, 343, 412, 465, 417]\n",
    "            forehead_landmarks = [9, 107, 104, 68, 54, 103, 67, 109, 10, 338, 297, 332, 284, 298, 333, 299, 336, 337]  # Example indices\n",
    "\n",
    "            # Extract ROI signals.\n",
    "            left_cheek_roi = [landmarks[i] for i in left_cheek_indices]\n",
    "            right_cheek_roi = [landmarks[i] for i in right_cheek_indices]\n",
    "            nose_roi = [landmarks[i] for i in nose_indices]\n",
    "            forehead_roi = [landmarks[i] for i in forehead_landmarks]\n",
    "\n",
    "            left_cheek_signal = extract_rgb(left_cheek_roi, frame)\n",
    "            right_cheek_signal = extract_rgb(right_cheek_roi, frame)\n",
    "            nose_signal = extract_rgb(nose_roi, frame)\n",
    "            forehead_signal = extract_rgb(forehead_roi, frame)\n",
    "\n",
    "            # Store signals.\n",
    "            cheek_signals.append(np.mean([left_cheek_signal, right_cheek_signal], axis=0))\n",
    "            nose_signals.append(nose_signal)\n",
    "            forehead_signals.append(forehead_signal)\n",
    "\n",
    "    # convert lists to numpy arrays\n",
    "    cheek_signals = np.array(cheek_signals)\n",
    "    nose_signals = np.array(nose_signals)\n",
    "    forehead_signals = np.array(forehead_signals)\n",
    "\n",
    "    # Calculate the rPPG signal (example using green channel).\n",
    "    cheek_rppg_signal = cheek_signals[:, 1]  # Green channel.\n",
    "    nose_rppg_signal = nose_signals[:, 1]  # Green channel.\n",
    "    forehead_rppg_signal = forehead_signals[:, 1]  # Green channel.\n",
    "\n",
    "    # Combine signals from different ROIs (simple average for this example).\n",
    "    rppg_signal = np.mean([cheek_rppg_signal, nose_rppg_signal], axis=0)\n",
    "\n",
    "    coords = [(int(face_landmarks.landmark[i].x * frame.shape[1]), int(face_landmarks.landmark[i].y * frame.shape[0])) for i in forehead_landmarks] #for each index, it retrieves the corresponding landmark from the face_landmarks object\n",
    "\n",
    "    # Create a mask for the forehead region\n",
    "    mask = np.zeros(frame.shape[:2], dtype=np.uint8)\n",
    "    cv2.fillConvexPoly(mask, np.array(coords, dtype=np.int32), 1)\n",
    "\n",
    "    # Extract the mean color value in the forehead region\n",
    "    mean_color = cv2.mean(frame, mask=mask)[:3]\n",
    "    rppg_signal.append(np.mean(mean_color))  # Take the mean of the RGB values\n",
    "\n",
    "    # Add current frame time to time axis\n",
    "    time_axis.append(cap.get(cv2.CAP_PROP_POS_MSEC) / 1000.0)\n",
    "            \n",
    "    cap.release()\n",
    "    cv2.destroyAllWindows()"
   ],
   "id": "b4945b1659b3f4e8",
   "outputs": [
    {
     "name": "stderr",
     "output_type": "stream",
     "text": [
      "C:\\Users\\USER\\miniconda3\\envs\\mediapipe-research\\lib\\site-packages\\google\\protobuf\\symbol_database.py:55: UserWarning: SymbolDatabase.GetPrototype() is deprecated. Please use message_factory.GetMessageClass() instead. SymbolDatabase.GetPrototype() will be removed soon.\n",
      "  warnings.warn('SymbolDatabase.GetPrototype() is deprecated. Please '\n"
     ]
    },
    {
     "ename": "AttributeError",
     "evalue": "'numpy.ndarray' object has no attribute 'append'",
     "output_type": "error",
     "traceback": [
      "\u001B[1;31m---------------------------------------------------------------------------\u001B[0m",
      "\u001B[1;31mAttributeError\u001B[0m                            Traceback (most recent call last)",
      "Cell \u001B[1;32mIn[4], line 72\u001B[0m\n\u001B[0;32m     70\u001B[0m \u001B[38;5;66;03m# Extract the mean color value in the forehead region\u001B[39;00m\n\u001B[0;32m     71\u001B[0m mean_color \u001B[38;5;241m=\u001B[39m cv2\u001B[38;5;241m.\u001B[39mmean(frame, mask\u001B[38;5;241m=\u001B[39mmask)[:\u001B[38;5;241m3\u001B[39m]\n\u001B[1;32m---> 72\u001B[0m \u001B[43mrppg_signal\u001B[49m\u001B[38;5;241;43m.\u001B[39;49m\u001B[43mappend\u001B[49m(np\u001B[38;5;241m.\u001B[39mmean(mean_color))  \u001B[38;5;66;03m# Take the mean of the RGB values\u001B[39;00m\n\u001B[0;32m     74\u001B[0m \u001B[38;5;66;03m# Add current frame time to time axis\u001B[39;00m\n\u001B[0;32m     75\u001B[0m time_axis\u001B[38;5;241m.\u001B[39mappend(cap\u001B[38;5;241m.\u001B[39mget(cv2\u001B[38;5;241m.\u001B[39mCAP_PROP_POS_MSEC) \u001B[38;5;241m/\u001B[39m \u001B[38;5;241m1000.0\u001B[39m)\n",
      "\u001B[1;31mAttributeError\u001B[0m: 'numpy.ndarray' object has no attribute 'append'"
     ]
    }
   ],
   "execution_count": 4
  },
  {
   "metadata": {
    "ExecuteTime": {
     "end_time": "2024-07-25T11:26:27.436125Z",
     "start_time": "2024-07-25T11:26:27.307109Z"
    }
   },
   "cell_type": "code",
   "source": [
    "# Visualize the rPPG signal.\n",
    "\n",
    "plt.plot(rppg_signal)\n",
    "plt.title('rPPG Signal')\n",
    "plt.xlabel('Frame')\n",
    "plt.ylabel('Amplitude')\n",
    "plt.show()"
   ],
   "id": "b0e411f27fb33f13",
   "outputs": [
    {
     "ename": "NameError",
     "evalue": "name 'rppg_signal' is not defined",
     "output_type": "error",
     "traceback": [
      "\u001B[1;31m---------------------------------------------------------------------------\u001B[0m",
      "\u001B[1;31mNameError\u001B[0m                                 Traceback (most recent call last)",
      "Cell \u001B[1;32mIn[11], line 3\u001B[0m\n\u001B[0;32m      1\u001B[0m \u001B[38;5;66;03m# Visualize the rPPG signal.\u001B[39;00m\n\u001B[1;32m----> 3\u001B[0m plt\u001B[38;5;241m.\u001B[39mplot(\u001B[43mrppg_signal\u001B[49m)\n\u001B[0;32m      4\u001B[0m plt\u001B[38;5;241m.\u001B[39mtitle(\u001B[38;5;124m'\u001B[39m\u001B[38;5;124mrPPG Signal\u001B[39m\u001B[38;5;124m'\u001B[39m)\n\u001B[0;32m      5\u001B[0m plt\u001B[38;5;241m.\u001B[39mxlabel(\u001B[38;5;124m'\u001B[39m\u001B[38;5;124mFrame\u001B[39m\u001B[38;5;124m'\u001B[39m)\n",
      "\u001B[1;31mNameError\u001B[0m: name 'rppg_signal' is not defined"
     ]
    }
   ],
   "execution_count": 11
  },
  {
   "metadata": {},
   "cell_type": "markdown",
   "source": "## Rewriting above code to apply for an image",
   "id": "4f49ddbe421f27ae"
  },
  {
   "metadata": {
    "ExecuteTime": {
     "end_time": "2024-06-29T06:09:19.823981Z",
     "start_time": "2024-06-29T06:09:19.789463Z"
    }
   },
   "cell_type": "code",
   "source": [
    "frame = cv2.imread(r\"C:\\Users\\USER\\Documents\\SLIIT\\Datasets\\CardioFit AI Dataset\\SampleFace2.png\", 1)\n",
    "\n",
    "rgb_frame = cv2.cvtColor(frame, cv2.COLOR_BGR2RGB)\n",
    "\n",
    "# Process the frame to detect face landmarks\n",
    "results = face_mesh.process(rgb_frame)\n",
    "mask = None\n",
    "\n",
    "if results.multi_face_landmarks:\n",
    "    for face_landmarks in results.multi_face_landmarks:\n",
    "        # Extract coordinates of landmarks corresponding to the forehead region\n",
    "        # For simplicity, let's assume we use landmark indices from the forehead region\n",
    "        forehead_landmarks = [10, 338, 297, 332, 284, 251, 389, 356, 454]  # Example indices\n",
    "        coords = [(int(face_landmarks.landmark[i].x * frame.shape[1]), int(face_landmarks.landmark[i].y * frame.shape[0])) for i in forehead_landmarks] #for each index, it retrieves the corresponding landmark from the face_landmarks object\n",
    "        \n",
    "        # Create a mask for the forehead region\n",
    "        mask = np.zeros(frame.shape[:2], dtype=np.uint8)\n",
    "        \n",
    "displayimg(mask)\n",
    "cv2.fillConvexPoly(mask, np.array(coords, dtype=np.int32), 1)\n",
    "\n",
    "# Scale up the mask for visualization\n",
    "mask_visual = mask * 255\n",
    "\n",
    "# Display the mask\n",
    "cv2.imshow('Mask', mask_visual)\n",
    "cv2.waitKey(0)\n",
    "cv2.destroyAllWindows()\n",
    "        "
   ],
   "id": "9419083d2b020a59",
   "execution_count": 18,
   "outputs": []
  },
  {
   "metadata": {},
   "cell_type": "markdown",
   "source": "end of Rewriting above code to apply for an image",
   "id": "15c54a1fc83a6b1d"
  },
  {
   "metadata": {},
   "cell_type": "code",
   "execution_count": null,
   "source": [
    "# Convert lists to numpy arrays\n",
    "rppg_signal = np.array(rppg_signal)\n",
    "time_axis = np.array(time_axis)\n",
    "\n",
    "# Smooth the rPPG signal\n",
    "smoothed_signal = savgol_filter(rppg_signal, window_length=51, polyorder=3)\n",
    "\n",
    "# Detect peaks in the smoothed rPPG signal\n",
    "peaks, _ = find_peaks(smoothed_signal, distance=fps * 0.6)  # Adjust the distance parameter based on expected heart rate\n",
    "\n",
    "# Calculate the time differences between successive peaks\n",
    "peak_times = time_axis[peaks]\n",
    "intervals = np.diff(peak_times)\n",
    "\n",
    "# Calculate heart rate (in beats per minute)\n",
    "heart_rate = 60.0 / intervals\n",
    "average_heart_rate = np.mean(heart_rate)\n",
    "\n",
    "# Plot the rPPG signal and detected peaks\n",
    "plt.figure(figsize=(10, 4))\n",
    "plt.plot(time_axis, smoothed_signal, label='Smoothed rPPG Signal')\n",
    "plt.plot(peak_times, smoothed_signal[peaks], \"x\", label='Detected Peaks')\n",
    "plt.xlabel('Time (s)')\n",
    "plt.ylabel('Amplitude')\n",
    "plt.title('rPPG Signal with Detected Peaks')\n",
    "plt.legend()\n",
    "plt.grid(True)\n",
    "plt.show()\n",
    "\n",
    "# Display the calculated heart rate\n",
    "print(f'Average Heart Rate: {average_heart_rate:.2f} bpm')"
   ],
   "id": "294232aefbcdd6e6",
   "outputs": []
  }
 ],
 "metadata": {
  "kernelspec": {
   "display_name": "Python 3",
   "language": "python",
   "name": "python3"
  },
  "language_info": {
   "codemirror_mode": {
    "name": "ipython",
    "version": 2
   },
   "file_extension": ".py",
   "mimetype": "text/x-python",
   "name": "python",
   "nbconvert_exporter": "python",
   "pygments_lexer": "ipython2",
   "version": "2.7.6"
  }
 },
 "nbformat": 4,
 "nbformat_minor": 5
}
